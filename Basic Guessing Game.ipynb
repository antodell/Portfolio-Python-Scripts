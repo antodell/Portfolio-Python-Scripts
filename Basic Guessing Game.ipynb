{
 "cells": [
  {
   "cell_type": "code",
   "execution_count": 1,
   "id": "c270820d",
   "metadata": {},
   "outputs": [],
   "source": [
    "import random \n",
    "import time"
   ]
  },
  {
   "cell_type": "code",
   "execution_count": 2,
   "id": "e4d67363",
   "metadata": {},
   "outputs": [
    {
     "name": "stdout",
     "output_type": "stream",
     "text": [
      "Enter a number between 1 and your choice: 67\n",
      "Pick a number between 1 and 67: 2\n",
      "Your guess is low, try a higher bid!\n",
      "Pick a number between 1 and 67: 45\n",
      "Your guess is low, try a higher bid!\n",
      "Pick a number between 1 and 67: 66\n",
      "Your guess is too high, try a lower bid!\n",
      "Pick a number between 1 and 67: 45\n",
      "Your guess is low, try a higher bid!\n",
      "Pick a number between 1 and 67: 67\n",
      "Your guess is too high, try a lower bid!\n",
      "Pick a number between 1 and 67: 12\n",
      "Your guess is low, try a higher bid!\n",
      "Pick a number between 1 and 67: 33\n",
      "Your guess is low, try a higher bid!\n",
      "Pick a number between 1 and 67: 34\n",
      "Your guess is low, try a higher bid!\n",
      "Pick a number between 1 and 67: 35\n",
      "Your guess is low, try a higher bid!\n",
      "Pick a number between 1 and 67: 36\n",
      "Your guess is low, try a higher bid!\n",
      "Pick a number between 1 and 67: 37\n",
      "Your guess is low, try a higher bid!\n",
      "Pick a number between 1 and 67: 38\n",
      "Your guess is low, try a higher bid!\n",
      "Pick a number between 1 and 67: 60\n",
      "Your guess is too high, try a lower bid!\n",
      "Pick a number between 1 and 67: 55\n",
      "Your guess is too high, try a lower bid!\n",
      "Pick a number between 1 and 67: 56\n",
      "Your guess is too high, try a lower bid!\n",
      "Pick a number between 1 and 67: 577\n",
      "Your guess is too high, try a lower bid!\n",
      "Pick a number between 1 and 67: 58\n",
      "Your guess is too high, try a lower bid!\n",
      "Pick a number between 1 and 67: 53\n",
      "Your guess is too high, try a lower bid!\n",
      "Pick a number between 1 and 67: 52\n",
      "you guessed it! congrats!\n",
      "It took you 19 guesses.\n"
     ]
    }
   ],
   "source": [
    "num = int(input('Enter a number between 1 and your choice: '))\n",
    "number = random.randint(1,num)\n",
    "guess = int(input('Pick a number between 1 and {}: '.format(num)))\n",
    "count = 1\n",
    "\n",
    "while guess != number: \n",
    "    if guess < number:\n",
    "        print('Your guess is low, try a higher bid!')\n",
    "        time.sleep(1)\n",
    "        guess = int(input('Pick a number between 1 and {}: '.format(num)))\n",
    "        count += 1\n",
    "        \n",
    "    if guess > number: \n",
    "        print('Your guess is too high, try a lower bid!')\n",
    "        time.sleep(1)\n",
    "        guess = int(input('Pick a number between 1 and {}: '.format(num)))\n",
    "        count += 1\n",
    "        \n",
    "print('you guessed it! congrats!')\n",
    "\n",
    "if count == 1:\n",
    "    print('You got it in', count, 'guess!')\n",
    "else: \n",
    "    print('It took you', count, 'guesses.')\n"
   ]
  },
  {
   "cell_type": "markdown",
   "id": "5803fd73",
   "metadata": {},
   "source": []
  }
 ],
 "metadata": {
  "kernelspec": {
   "display_name": "Python 3 (ipykernel)",
   "language": "python",
   "name": "python3"
  },
  "language_info": {
   "codemirror_mode": {
    "name": "ipython",
    "version": 3
   },
   "file_extension": ".py",
   "mimetype": "text/x-python",
   "name": "python",
   "nbconvert_exporter": "python",
   "pygments_lexer": "ipython3",
   "version": "3.9.12"
  }
 },
 "nbformat": 4,
 "nbformat_minor": 5
}
